{
  "nbformat": 4,
  "nbformat_minor": 0,
  "metadata": {
    "colab": {
      "provenance": [],
      "authorship_tag": "ABX9TyPwyeuVZoaotVXgsesjrbD4",
      "include_colab_link": true
    },
    "kernelspec": {
      "name": "python3",
      "display_name": "Python 3"
    },
    "language_info": {
      "name": "python"
    }
  },
  "cells": [
    {
      "cell_type": "markdown",
      "metadata": {
        "id": "view-in-github",
        "colab_type": "text"
      },
      "source": [
        "<a href=\"https://colab.research.google.com/github/mauricionoronha/segturno2022/blob/main/Eleicoes2022.ipynb\" target=\"_parent\"><img src=\"https://colab.research.google.com/assets/colab-badge.svg\" alt=\"Open In Colab\"/></a>"
      ]
    },
    {
      "cell_type": "markdown",
      "source": [
        "# ACOMPANHANDO AS APURAÇÕES DA ELEIÇÃO DE SEGUNDO TURNO PARA PRESIDENTE 2022 EM TEMPO REAL\n",
        "\n",
        "Neste projeto, usando o API do TSE, conseguiremos visualizar em tempo real as apurações de segundo turno para Presidente da República em 2022."
      ],
      "metadata": {
        "id": "x-EphUA_ocii"
      }
    },
    {
      "cell_type": "markdown",
      "source": [
        "Importando as bibliotecas necessárias:\n",
        "* Pandas - para manipular o dataframe\n",
        "* Requests - para puxar os dados do API do TSE\n",
        "* Json - para visualizar os dados do API"
      ],
      "metadata": {
        "id": "qhRt0azCbhgq"
      }
    },
    {
      "cell_type": "code",
      "execution_count": 16,
      "metadata": {
        "id": "7NRrHMBaoW7v"
      },
      "outputs": [],
      "source": [
        "import pandas as pd\n",
        "import requests\n",
        "import json"
      ]
    },
    {
      "cell_type": "code",
      "source": [
        "apura = requests.get(\"https://resultados.tse.jus.br/oficial/ele2022/545/dados-simplificados/br/br-c0001-e000545-r.json\")\n",
        "apura = apura.json()"
      ],
      "metadata": {
        "id": "oLvPTCLrNXoe"
      },
      "execution_count": 17,
      "outputs": []
    },
    {
      "cell_type": "code",
      "source": [
        "print(apura)"
      ],
      "metadata": {
        "colab": {
          "base_uri": "https://localhost:8080/"
        },
        "id": "Y7i6WSzbOb4Q",
        "outputId": "29df4dc9-7b68-4800-be8f-286d42a5e3a8"
      },
      "execution_count": 18,
      "outputs": [
        {
          "output_type": "stream",
          "name": "stdout",
          "text": [
            "{'ele': '545', 'tpabr': 'br', 'cdabr': 'br', 'carper': '1', 'md': 'N', 't': '2', 'f': 'o', 'dg': '30/10/2022', 'hg': '18:27:48', 'dt': '30/10/2022', 'ht': '18:27:36', 'dv': 's', 'tf': 'n', 'v': '1', 'esae': 'n', 'mnae': '', 's': '472075', 'st': '240390', 'pst': '50,92', 'snt': '231685', 'psnt': '49,08', 'si': '240343', 'psi': '50,91', 'sni': '47', 'psni': '49,09', 'sa': '240343', 'psa': '100,00', 'sna': '0', 'psna': '0,00', 'e': '156454011', 'ea': '78957621', 'pea': '100,00', 'ena': '0', 'pena': '0,00', 'esi': '78957621', 'pesi': '50,46', 'esni': '657', 'pesni': '100,00', 'c': '62754707', 'pc': '79,47', 'a': '16202914', 'pa': '20,53', 'vscv': '0', 'vnom': '60000872', 'pvnom': '100,00', 'vvc': '60000872', 'pvvc': '95,61', 'vb': '867647', 'pvb': '1,38', 'tvn': '1886188', 'ptvn': '3,01', 'vn': '1886188', 'pvn': '100,00', 'vnt': '0', 'pvnt': '0,00', 'vp': '0', 'pvp': '0,00', 'vv': '60000872', 'pvv': '100,00', 'van': '0', 'pvan': '0,00', 'vansj': '0', 'pvansj': '0,00', 'tv': '62754707', 'cand': [{'seq': '1', 'sqcand': '280001618036', 'n': '22', 'nm': 'JAIR BOLSONARO', 'cc': 'PL - PP / REPUBLICANOS / PL', 'nv': 'BRAGA NETTO', 'e': 'n', 'st': '', 'dvt': 'Válido', 'vap': '30179145', 'pvap': '50,30'}, {'seq': '2', 'sqcand': '280001607829', 'n': '13', 'nm': 'LULA', 'cc': 'PT - Federação Brasil da Esperança - FE BRASIL (PT/PC do B/PV) / SOLIDARIEDADE / Federação PSOL REDE (PSOL/REDE) / PSB / AGIR / AVANTE / PROS', 'nv': 'GERALDO ALCKMIN', 'e': 'n', 'st': '', 'dvt': 'Válido', 'vap': '29821727', 'pvap': '49,70'}]}\n"
          ]
        }
      ]
    },
    {
      "cell_type": "code",
      "source": [
        "df = pd.DataFrame.from_dict(apura[\"cand\"])\n",
        "df"
      ],
      "metadata": {
        "colab": {
          "base_uri": "https://localhost:8080/",
          "height": 112
        },
        "id": "KZWwbz1OSPXc",
        "outputId": "161d0229-3977-4b83-9552-408718f9bc46"
      },
      "execution_count": 19,
      "outputs": [
        {
          "output_type": "execute_result",
          "data": {
            "text/plain": [
              "  seq        sqcand   n              nm  \\\n",
              "0   1  280001618036  22  JAIR BOLSONARO   \n",
              "1   2  280001607829  13            LULA   \n",
              "\n",
              "                                                  cc               nv  e st  \\\n",
              "0                        PL - PP / REPUBLICANOS / PL      BRAGA NETTO  n      \n",
              "1  PT - Federação Brasil da Esperança - FE BRASIL...  GERALDO ALCKMIN  n      \n",
              "\n",
              "      dvt       vap   pvap  \n",
              "0  Válido  30179145  50,30  \n",
              "1  Válido  29821727  49,70  "
            ],
            "text/html": [
              "\n",
              "  <div id=\"df-2d9555f2-f777-4879-8db3-25c481fd5193\">\n",
              "    <div class=\"colab-df-container\">\n",
              "      <div>\n",
              "<style scoped>\n",
              "    .dataframe tbody tr th:only-of-type {\n",
              "        vertical-align: middle;\n",
              "    }\n",
              "\n",
              "    .dataframe tbody tr th {\n",
              "        vertical-align: top;\n",
              "    }\n",
              "\n",
              "    .dataframe thead th {\n",
              "        text-align: right;\n",
              "    }\n",
              "</style>\n",
              "<table border=\"1\" class=\"dataframe\">\n",
              "  <thead>\n",
              "    <tr style=\"text-align: right;\">\n",
              "      <th></th>\n",
              "      <th>seq</th>\n",
              "      <th>sqcand</th>\n",
              "      <th>n</th>\n",
              "      <th>nm</th>\n",
              "      <th>cc</th>\n",
              "      <th>nv</th>\n",
              "      <th>e</th>\n",
              "      <th>st</th>\n",
              "      <th>dvt</th>\n",
              "      <th>vap</th>\n",
              "      <th>pvap</th>\n",
              "    </tr>\n",
              "  </thead>\n",
              "  <tbody>\n",
              "    <tr>\n",
              "      <th>0</th>\n",
              "      <td>1</td>\n",
              "      <td>280001618036</td>\n",
              "      <td>22</td>\n",
              "      <td>JAIR BOLSONARO</td>\n",
              "      <td>PL - PP / REPUBLICANOS / PL</td>\n",
              "      <td>BRAGA NETTO</td>\n",
              "      <td>n</td>\n",
              "      <td></td>\n",
              "      <td>Válido</td>\n",
              "      <td>30179145</td>\n",
              "      <td>50,30</td>\n",
              "    </tr>\n",
              "    <tr>\n",
              "      <th>1</th>\n",
              "      <td>2</td>\n",
              "      <td>280001607829</td>\n",
              "      <td>13</td>\n",
              "      <td>LULA</td>\n",
              "      <td>PT - Federação Brasil da Esperança - FE BRASIL...</td>\n",
              "      <td>GERALDO ALCKMIN</td>\n",
              "      <td>n</td>\n",
              "      <td></td>\n",
              "      <td>Válido</td>\n",
              "      <td>29821727</td>\n",
              "      <td>49,70</td>\n",
              "    </tr>\n",
              "  </tbody>\n",
              "</table>\n",
              "</div>\n",
              "      <button class=\"colab-df-convert\" onclick=\"convertToInteractive('df-2d9555f2-f777-4879-8db3-25c481fd5193')\"\n",
              "              title=\"Convert this dataframe to an interactive table.\"\n",
              "              style=\"display:none;\">\n",
              "        \n",
              "  <svg xmlns=\"http://www.w3.org/2000/svg\" height=\"24px\"viewBox=\"0 0 24 24\"\n",
              "       width=\"24px\">\n",
              "    <path d=\"M0 0h24v24H0V0z\" fill=\"none\"/>\n",
              "    <path d=\"M18.56 5.44l.94 2.06.94-2.06 2.06-.94-2.06-.94-.94-2.06-.94 2.06-2.06.94zm-11 1L8.5 8.5l.94-2.06 2.06-.94-2.06-.94L8.5 2.5l-.94 2.06-2.06.94zm10 10l.94 2.06.94-2.06 2.06-.94-2.06-.94-.94-2.06-.94 2.06-2.06.94z\"/><path d=\"M17.41 7.96l-1.37-1.37c-.4-.4-.92-.59-1.43-.59-.52 0-1.04.2-1.43.59L10.3 9.45l-7.72 7.72c-.78.78-.78 2.05 0 2.83L4 21.41c.39.39.9.59 1.41.59.51 0 1.02-.2 1.41-.59l7.78-7.78 2.81-2.81c.8-.78.8-2.07 0-2.86zM5.41 20L4 18.59l7.72-7.72 1.47 1.35L5.41 20z\"/>\n",
              "  </svg>\n",
              "      </button>\n",
              "      \n",
              "  <style>\n",
              "    .colab-df-container {\n",
              "      display:flex;\n",
              "      flex-wrap:wrap;\n",
              "      gap: 12px;\n",
              "    }\n",
              "\n",
              "    .colab-df-convert {\n",
              "      background-color: #E8F0FE;\n",
              "      border: none;\n",
              "      border-radius: 50%;\n",
              "      cursor: pointer;\n",
              "      display: none;\n",
              "      fill: #1967D2;\n",
              "      height: 32px;\n",
              "      padding: 0 0 0 0;\n",
              "      width: 32px;\n",
              "    }\n",
              "\n",
              "    .colab-df-convert:hover {\n",
              "      background-color: #E2EBFA;\n",
              "      box-shadow: 0px 1px 2px rgba(60, 64, 67, 0.3), 0px 1px 3px 1px rgba(60, 64, 67, 0.15);\n",
              "      fill: #174EA6;\n",
              "    }\n",
              "\n",
              "    [theme=dark] .colab-df-convert {\n",
              "      background-color: #3B4455;\n",
              "      fill: #D2E3FC;\n",
              "    }\n",
              "\n",
              "    [theme=dark] .colab-df-convert:hover {\n",
              "      background-color: #434B5C;\n",
              "      box-shadow: 0px 1px 3px 1px rgba(0, 0, 0, 0.15);\n",
              "      filter: drop-shadow(0px 1px 2px rgba(0, 0, 0, 0.3));\n",
              "      fill: #FFFFFF;\n",
              "    }\n",
              "  </style>\n",
              "\n",
              "      <script>\n",
              "        const buttonEl =\n",
              "          document.querySelector('#df-2d9555f2-f777-4879-8db3-25c481fd5193 button.colab-df-convert');\n",
              "        buttonEl.style.display =\n",
              "          google.colab.kernel.accessAllowed ? 'block' : 'none';\n",
              "\n",
              "        async function convertToInteractive(key) {\n",
              "          const element = document.querySelector('#df-2d9555f2-f777-4879-8db3-25c481fd5193');\n",
              "          const dataTable =\n",
              "            await google.colab.kernel.invokeFunction('convertToInteractive',\n",
              "                                                     [key], {});\n",
              "          if (!dataTable) return;\n",
              "\n",
              "          const docLinkHtml = 'Like what you see? Visit the ' +\n",
              "            '<a target=\"_blank\" href=https://colab.research.google.com/notebooks/data_table.ipynb>data table notebook</a>'\n",
              "            + ' to learn more about interactive tables.';\n",
              "          element.innerHTML = '';\n",
              "          dataTable['output_type'] = 'display_data';\n",
              "          await google.colab.output.renderOutput(dataTable, element);\n",
              "          const docLink = document.createElement('div');\n",
              "          docLink.innerHTML = docLinkHtml;\n",
              "          element.appendChild(docLink);\n",
              "        }\n",
              "      </script>\n",
              "    </div>\n",
              "  </div>\n",
              "  "
            ]
          },
          "metadata": {},
          "execution_count": 19
        }
      ]
    },
    {
      "cell_type": "code",
      "source": [
        "df[[\"nm\",\"vap\",\"pvap\"]]"
      ],
      "metadata": {
        "colab": {
          "base_uri": "https://localhost:8080/",
          "height": 112
        },
        "id": "FytfxqJFS9jX",
        "outputId": "db959961-f5f6-473e-f884-65aafdb0f65f"
      },
      "execution_count": 20,
      "outputs": [
        {
          "output_type": "execute_result",
          "data": {
            "text/plain": [
              "               nm       vap   pvap\n",
              "0  JAIR BOLSONARO  30179145  50,30\n",
              "1            LULA  29821727  49,70"
            ],
            "text/html": [
              "\n",
              "  <div id=\"df-23c6d531-1665-45fd-a9f9-9ffe8d7a9595\">\n",
              "    <div class=\"colab-df-container\">\n",
              "      <div>\n",
              "<style scoped>\n",
              "    .dataframe tbody tr th:only-of-type {\n",
              "        vertical-align: middle;\n",
              "    }\n",
              "\n",
              "    .dataframe tbody tr th {\n",
              "        vertical-align: top;\n",
              "    }\n",
              "\n",
              "    .dataframe thead th {\n",
              "        text-align: right;\n",
              "    }\n",
              "</style>\n",
              "<table border=\"1\" class=\"dataframe\">\n",
              "  <thead>\n",
              "    <tr style=\"text-align: right;\">\n",
              "      <th></th>\n",
              "      <th>nm</th>\n",
              "      <th>vap</th>\n",
              "      <th>pvap</th>\n",
              "    </tr>\n",
              "  </thead>\n",
              "  <tbody>\n",
              "    <tr>\n",
              "      <th>0</th>\n",
              "      <td>JAIR BOLSONARO</td>\n",
              "      <td>30179145</td>\n",
              "      <td>50,30</td>\n",
              "    </tr>\n",
              "    <tr>\n",
              "      <th>1</th>\n",
              "      <td>LULA</td>\n",
              "      <td>29821727</td>\n",
              "      <td>49,70</td>\n",
              "    </tr>\n",
              "  </tbody>\n",
              "</table>\n",
              "</div>\n",
              "      <button class=\"colab-df-convert\" onclick=\"convertToInteractive('df-23c6d531-1665-45fd-a9f9-9ffe8d7a9595')\"\n",
              "              title=\"Convert this dataframe to an interactive table.\"\n",
              "              style=\"display:none;\">\n",
              "        \n",
              "  <svg xmlns=\"http://www.w3.org/2000/svg\" height=\"24px\"viewBox=\"0 0 24 24\"\n",
              "       width=\"24px\">\n",
              "    <path d=\"M0 0h24v24H0V0z\" fill=\"none\"/>\n",
              "    <path d=\"M18.56 5.44l.94 2.06.94-2.06 2.06-.94-2.06-.94-.94-2.06-.94 2.06-2.06.94zm-11 1L8.5 8.5l.94-2.06 2.06-.94-2.06-.94L8.5 2.5l-.94 2.06-2.06.94zm10 10l.94 2.06.94-2.06 2.06-.94-2.06-.94-.94-2.06-.94 2.06-2.06.94z\"/><path d=\"M17.41 7.96l-1.37-1.37c-.4-.4-.92-.59-1.43-.59-.52 0-1.04.2-1.43.59L10.3 9.45l-7.72 7.72c-.78.78-.78 2.05 0 2.83L4 21.41c.39.39.9.59 1.41.59.51 0 1.02-.2 1.41-.59l7.78-7.78 2.81-2.81c.8-.78.8-2.07 0-2.86zM5.41 20L4 18.59l7.72-7.72 1.47 1.35L5.41 20z\"/>\n",
              "  </svg>\n",
              "      </button>\n",
              "      \n",
              "  <style>\n",
              "    .colab-df-container {\n",
              "      display:flex;\n",
              "      flex-wrap:wrap;\n",
              "      gap: 12px;\n",
              "    }\n",
              "\n",
              "    .colab-df-convert {\n",
              "      background-color: #E8F0FE;\n",
              "      border: none;\n",
              "      border-radius: 50%;\n",
              "      cursor: pointer;\n",
              "      display: none;\n",
              "      fill: #1967D2;\n",
              "      height: 32px;\n",
              "      padding: 0 0 0 0;\n",
              "      width: 32px;\n",
              "    }\n",
              "\n",
              "    .colab-df-convert:hover {\n",
              "      background-color: #E2EBFA;\n",
              "      box-shadow: 0px 1px 2px rgba(60, 64, 67, 0.3), 0px 1px 3px 1px rgba(60, 64, 67, 0.15);\n",
              "      fill: #174EA6;\n",
              "    }\n",
              "\n",
              "    [theme=dark] .colab-df-convert {\n",
              "      background-color: #3B4455;\n",
              "      fill: #D2E3FC;\n",
              "    }\n",
              "\n",
              "    [theme=dark] .colab-df-convert:hover {\n",
              "      background-color: #434B5C;\n",
              "      box-shadow: 0px 1px 3px 1px rgba(0, 0, 0, 0.15);\n",
              "      filter: drop-shadow(0px 1px 2px rgba(0, 0, 0, 0.3));\n",
              "      fill: #FFFFFF;\n",
              "    }\n",
              "  </style>\n",
              "\n",
              "      <script>\n",
              "        const buttonEl =\n",
              "          document.querySelector('#df-23c6d531-1665-45fd-a9f9-9ffe8d7a9595 button.colab-df-convert');\n",
              "        buttonEl.style.display =\n",
              "          google.colab.kernel.accessAllowed ? 'block' : 'none';\n",
              "\n",
              "        async function convertToInteractive(key) {\n",
              "          const element = document.querySelector('#df-23c6d531-1665-45fd-a9f9-9ffe8d7a9595');\n",
              "          const dataTable =\n",
              "            await google.colab.kernel.invokeFunction('convertToInteractive',\n",
              "                                                     [key], {});\n",
              "          if (!dataTable) return;\n",
              "\n",
              "          const docLinkHtml = 'Like what you see? Visit the ' +\n",
              "            '<a target=\"_blank\" href=https://colab.research.google.com/notebooks/data_table.ipynb>data table notebook</a>'\n",
              "            + ' to learn more about interactive tables.';\n",
              "          element.innerHTML = '';\n",
              "          dataTable['output_type'] = 'display_data';\n",
              "          await google.colab.output.renderOutput(dataTable, element);\n",
              "          const docLink = document.createElement('div');\n",
              "          docLink.innerHTML = docLinkHtml;\n",
              "          element.appendChild(docLink);\n",
              "        }\n",
              "      </script>\n",
              "    </div>\n",
              "  </div>\n",
              "  "
            ]
          },
          "metadata": {},
          "execution_count": 20
        }
      ]
    },
    {
      "cell_type": "markdown",
      "source": [
        "Criando uma função para baixar o API"
      ],
      "metadata": {
        "id": "Glyx6wxA0-y4"
      }
    },
    {
      "cell_type": "code",
      "source": [
        "def download_arquivo():\n",
        "    apura = requests.get(\"https://resultados.tse.jus.br/oficial/ele2022/545/dados-simplificados/br/br-c0001-e000545-r.json\")\n",
        "    apura = apura.json()\n",
        "    return apura"
      ],
      "metadata": {
        "id": "KnscqXTgTX7I"
      },
      "execution_count": 21,
      "outputs": []
    },
    {
      "cell_type": "markdown",
      "source": [
        "Criando uma função para limpar os dados, retornando apenas:\n",
        "* nm - Nome dos candidatos\n",
        "* vap - Quantidade de votos válidos\n",
        "* pvap - % de votos válidos"
      ],
      "metadata": {
        "id": "W2EPM6yv1HLA"
      }
    },
    {
      "cell_type": "code",
      "source": [
        "def tratar_df(json):\n",
        "    df = pd.DataFrame.from_dict(apura[\"cand\"])\n",
        "    df[[\"nm\",\"vap\",\"pvap\"]]\n",
        "    return df"
      ],
      "metadata": {
        "id": "MvfaFN-GTpWs"
      },
      "execution_count": 22,
      "outputs": []
    },
    {
      "cell_type": "markdown",
      "source": [
        "Importando as bibliotecas:\n",
        "* Time - para criar um contador de tempo da atualização dos dados\n",
        "* Clear_output - para limpar a tela depois da atualização"
      ],
      "metadata": {
        "id": "6tJ2excY1eSU"
      }
    },
    {
      "cell_type": "code",
      "source": [
        "import time\n",
        "from IPython.display import clear_output"
      ],
      "metadata": {
        "id": "JaWqfjrxT8ud"
      },
      "execution_count": 35,
      "outputs": []
    },
    {
      "cell_type": "markdown",
      "source": [
        "Criando um loop while que irá:\n",
        "1.  Chamar as funções download_arquivos e tratar_df\n",
        "2.  Mostrar o resultado\n",
        "3.  Aguardar 15 segundos\n",
        "4.  Limpar a saída de dados\n",
        "5.  Retornar ao início"
      ],
      "metadata": {
        "id": "UGmuDPvm13LQ"
      }
    },
    {
      "cell_type": "code",
      "source": [
        "while True:\n",
        "    json = download_arquivo()\n",
        "    df = tratar_df(json)\n",
        "    print(df[[\"nm\",\"vap\",\"pvap\"]])\n",
        "    time.sleep(15)\n",
        "    clear_output()"
      ],
      "metadata": {
        "id": "kRSVvbtH2EJm"
      },
      "execution_count": null,
      "outputs": []
    }
  ]
}